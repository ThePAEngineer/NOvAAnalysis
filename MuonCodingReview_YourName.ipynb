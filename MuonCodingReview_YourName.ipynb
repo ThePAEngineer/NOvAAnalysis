{
  "nbformat": 4,
  "nbformat_minor": 0,
  "metadata": {
    "colab": {
      "provenance": []
    },
    "kernelspec": {
      "name": "python3",
      "display_name": "Python 3"
    },
    "language_info": {
      "name": "python"
    }
  },
  "cells": [
    {
      "cell_type": "markdown",
      "source": [
        "## Invariant Mass of the Muon\n",
        "\n",
        "This activity uses data from the [CMS detector](https://cms.cern/detector) at CERN in Geneva, Switzerland. We've used this in [Quarknet's Data Camp at Fermilab](https://quarknet.org/page/data-camp-description) for several years to help teachers learn about particle physics.  \n",
        "\n",
        "To get started,\n",
        "- You won't hurt anything by experimenting. If you break it, close the tab and open the activity again to start over.\n",
        "- Is this your first time? Need a refresher? Try the 5-minute [Intro to Coding activity](https://colab.research.google.com/github/QuarkNet-HEP/coding-camp/blob/master/intro.ipynb) and come back here.\n",
        "\n",
        "When you're ready, run each code cell until you get down to **Part One**."
      ],
      "metadata": {
        "id": "urx-N656EEeD"
      }
    },
    {
      "cell_type": "code",
      "execution_count": null,
      "metadata": {
        "id": "YNtZ9F-DDwVe"
      },
      "outputs": [],
      "source": [
        "# imports some software packages we'll use\n",
        "import pandas as pd #For data organization\n",
        "import numpy as np #For Math\n",
        "import matplotlib as mpl #For plotting\n",
        "import matplotlib.pyplot as plt #Also for plotting\n",
        "print(\"Packages Imported!\")"
      ]
    },
    {
      "cell_type": "code",
      "source": [
        "# a hashtag tells the program \"don't read the rest of the line\"\n",
        "# That way we can write \"comments\" to humans trying to figure out what the code does\n",
        "\n",
        "data = pd.read_csv('https://github.com/QuarkNet-HEP/coding-camp/raw/main/data/muons.csv')\n",
        "# units in these files are energy, E (in GeV) and momentum, p (in GeV/c)\n",
        "\n",
        "# The .head(n) command displays the first n rows of a file.\n",
        "data.head(3)"
      ],
      "metadata": {
        "id": "037vbveGESMJ"
      },
      "execution_count": null,
      "outputs": []
    },
    {
      "cell_type": "code",
      "source": [
        "# A call to \"describe\" gives an overview of the data\n",
        "data.describe()"
      ],
      "metadata": {
        "id": "spjVkE33EWL6"
      },
      "execution_count": null,
      "outputs": []
    },
    {
      "cell_type": "markdown",
      "source": [
        "## Part One\n",
        "Get acquainted with this data set. It represents muons produced in a proton-proton collision (called an *event*). Look at the cells above to find the answers to the following questions:\n",
        "- In the table above, what do you think each of the column headings represent? Discuss with a partner and then take a look at the [key](https://github.com/QuarkNet-HEP/coding-camp/blob/main/CMS_data_headings.md).\n",
        "- How many events does this data set contain?"
      ],
      "metadata": {
        "id": "tu6gDMCSHDHa"
      }
    },
    {
      "cell_type": "markdown",
      "source": [
        "## Part Two\n",
        "Each muon has momentum and since they travel in 3 dimensions the momentum has three components. You can calculate the total momentum with the Pythogorean Theorem:  \n",
        "- In 2 dimensions, it's the familiar:  \n",
        "|p|<sup>2</sup> = p<sub>x</sub><sup>2</sup> + p<sub>y</sub><sup>2</sup>  \n",
        "  \n",
        "  \n",
        "- In 3 dimensions, it looks like:  \n",
        "|p|<sup>2</sup> = p<sub>x</sub><sup>2</sup> + p<sub>y</sub><sup>2</sup> + p<sub>z</sub><sup>2</sup>  \n",
        "  \n",
        "  \n",
        "<img src=\"https://upload.wikimedia.org/wikipedia/commons/thumb/6/64/Coord_XYZ.svg/2000px-Coord_XYZ.svg.png\" alt=\"Drawing\" width=\"200\" height=\"200\"/>  \n",
        "\n",
        "Try editing the code in the cell below to calculate the muon's total momentum.\n",
        "\n",
        "When you're ready, scroll down to **Part 3**."
      ],
      "metadata": {
        "id": "BIY6Z6KLHJDC"
      }
    },
    {
      "cell_type": "code",
      "source": [
        "# You can specify a column by data['column name']\n",
        "# This adds a column and fills it with E+px^2 for each event\n",
        "data['oogieboogie'] = data['E'] + data['py']**2         # this calculates nothing useful at all\n",
        "data.head(3)"
      ],
      "metadata": {
        "id": "NehCdY0lHIXV"
      },
      "execution_count": null,
      "outputs": []
    },
    {
      "cell_type": "markdown",
      "source": [
        "## Part Three\n",
        "Here's where special relativity comes in. A particle's **energy** is due to both it's **mass** and **momentum**. This equation is also similar to the Pythagoream theorem:  \n",
        "\n",
        "<center>energy<sup>2</sup> = mass<sup>2</sup> + momentum<sup>2</sup></center>  \n",
        "\n",
        "*Mass* in this equation is called the particle's *invariant mass* because it is a value all observers would agree on, regardless of their reference frame. The code below creates a column for the mass of the muon, but the equation isn't quite right.  \n",
        "- Edit the code in the cell below to *really* calculate the muon's mass.  \n",
        "- How could your equation produce some imaginary numbers?  \n",
        "\n",
        "When you're ready, scroll down to **Part 4**."
      ],
      "metadata": {
        "id": "0-XOC4c9HUYh"
      }
    },
    {
      "cell_type": "code",
      "source": [
        "data['mass'] = (data['E'] + data['px']) # this also calculates nothing useful\n",
        "data = data.fillna(0) # fills in a zero for any imaginary values your caluclation might produce\n",
        "data.head(3)"
      ],
      "metadata": {
        "id": "4YWO8TNHHZRw"
      },
      "execution_count": null,
      "outputs": []
    },
    {
      "cell_type": "code",
      "source": [
        "# With the new columns added, another call to Describe can be helpful too\n",
        "data.describe()"
      ],
      "metadata": {
        "id": "iG7Vc1AGbMB6"
      },
      "execution_count": null,
      "outputs": []
    },
    {
      "cell_type": "markdown",
      "source": [
        "## Part Four\n",
        "Run the code below to create a histogram of the \"mass\" column.  \n",
        "\n",
        "When it's finished, you'll see a histogram of the invariant mass values you calucalted for muon 1 in each event. This is called a *mass plot*.  \n",
        "- You'll probably need to adjust the histogram's range and number of bins to see a clear peak. The x-value of that peak occurs at the invariant mass of the particle (in this case, a muon).\n",
        "- Based on your histogram, what value does the muon's invariant mass seem to be?\n",
        "- Try replacing the histogram's title and x-axis label to something better."
      ],
      "metadata": {
        "id": "TWbodaklJZgp"
      }
    },
    {
      "cell_type": "code",
      "source": [
        "#Code to create a Histogram of the mass column\n",
        "plt.hist(data['mass'], bins=10, range=[0,50], log=False)  # makes the histogram\n",
        "plt.title(\"Good enough Title\")\n",
        "plt.xlabel(\"x-axis label (in GeV/c^2)\")\n",
        "plt.ylabel(\"number of events\")\n",
        "plt.grid(False);"
      ],
      "metadata": {
        "id": "DQQ-kGlJHa_r"
      },
      "execution_count": null,
      "outputs": []
    },
    {
      "cell_type": "markdown",
      "source": [
        "## Part Five  \n",
        "Now that you've analyzed your own huge set of particle collision events, here are some follow-up questions:\n",
        "- How does the value you calculated compare to the accepted mass of the [muon](https://en.wikipedia.org/wiki/Muon)? Is it very different, if so why might that be?\n",
        "- How different is it?  Perform a percent difference calculation using the code block below"
      ],
      "metadata": {
        "id": "N06YBY0tJwW4"
      }
    },
    {
      "cell_type": "code",
      "source": [
        "# A Percent Difference Calculation Could be Used\n",
        "# to Help Decide if the 2 Values are Different\n",
        "# Try this out using the very formal definition...\n",
        "#  ( |Got - Shoulda Got| / Shoulda Got ) X 100\n",
        "# Here the \"Shoulda Got\" value could be accepted muon mass value\n",
        "\n",
        "massPercentDiff = (np.abs(yourMuonMass________\n",
        "print(\"Event Percent Difference: \", massPercentDiff)"
      ],
      "metadata": {
        "id": "qNRFWThHKEQY"
      },
      "execution_count": null,
      "outputs": []
    },
    {
      "cell_type": "markdown",
      "source": [
        "## Part Six  \n",
        "To set us up for our NOvA Masterclass later on, another calculation to explore is how many events from the total are near the mass peak?\n",
        "- Complete the code block below, editing it to produce a result of how many events are near the muon's mass.\n",
        "    - Consider a \"range\" that would surround the peak when setting up this calculation\n",
        "- Note the use of the \"sum\" call, and the conditions to count the number of events that match the conditions."
      ],
      "metadata": {
        "id": "QY6G4ELLMnNQ"
      }
    },
    {
      "cell_type": "code",
      "source": [
        "# Counts the number of events that match the conditions given\n",
        "numberOfNearMassEvents = np.sum((data['__ColumnOfInterest___'] > __LowerRange__) & (data['__Co_____________________))\n",
        "print(\"Number of Events Near the Muon Mass Value:\", numberOfNearMassEvents)"
      ],
      "metadata": {
        "id": "cLSN_SJnNKBw"
      },
      "execution_count": null,
      "outputs": []
    },
    {
      "cell_type": "code",
      "source": [
        "# Let's make a ratio of events near the mass to the total number of events\n",
        "totalNumberOfEvents = len(data['__ColumnOfInterest___'])\n",
        "massEventRatio = _____Math to Calculate massEvents over totalEvents____\n",
        "print(\"Ratio of NearMass Events to Total Events:\", massEventRatio)"
      ],
      "metadata": {
        "id": "MeD-uVo2No7_"
      },
      "execution_count": null,
      "outputs": []
    },
    {
      "cell_type": "markdown",
      "source": [
        "---  \n",
        "## Saving Your Work  \n",
        "This is running on a Google server on a distant planet and deletes what you've done when you close this tab. To save your work for later use or analysis you have a few options:  \n",
        "- File > \"Save a copy in Drive\" will save it to you Google Drive in a folder called \"Collaboratory\". You can run it later from there.  \n",
        "- File > \"Download .ipynb\" to save to your computer (and run with Jupyter software later)  \n",
        "- File > Print to ... um ... print.  \n",
        "- To save an image of a graph or chart, right-click on it and select Save Image as ...  \n",
        "\n",
        "## Credits\n",
        "This majority of this notebook was designed by [Quarknet](https://quarknet.org/) Teaching and Learning Fellow [Adam LaMee](https://adamlamee.github.io/) and UCF Physics undergrad Brooke Emison and was then edited further by QuarkNet Neutrino Fellow Mike Plucinski. The handy csv files were created from the CMS Run2011A primary datasets and converted from ROOT format by the masterful [Tom McCauley](https://github.com/tpmccauley). More can be found on the [CERN OpenData](http://opendata.cern.ch/?ln=en) site, like [here](http://opendata.cern.ch/record/545). The 3D vector image can be found on [WikiMedia Commons](https://commons.wikimedia.org/wiki/File:Coord_XYZ.svg). Finally, thanks to the great folks at [Binder](https://mybinder.org/) and [Google Colaboratory](https://colab.research.google.com/notebooks/intro.ipynb) for making this notebook interactive without you needing to download it or install [Jupyter](https://jupyter.org/) on your own device. Find more activities and license info at [CODINGinK12.org](http://www.codingink12.org)."
      ],
      "metadata": {
        "id": "AI_A2NC-HscC"
      }
    }
  ]
}